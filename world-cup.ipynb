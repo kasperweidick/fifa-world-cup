{
 "cells": [
  {
   "cell_type": "code",
   "execution_count": 1,
   "metadata": {},
   "outputs": [],
   "source": [
    "import pandas as pd"
   ]
  },
  {
   "cell_type": "code",
   "execution_count": 2,
   "metadata": {},
   "outputs": [],
   "source": [
    "matches_df = pd.read_csv('data/WorldCupMatches.csv')"
   ]
  },
  {
   "cell_type": "code",
   "execution_count": null,
   "metadata": {},
   "outputs": [],
   "source": [
    "matches_df.head()"
   ]
  },
  {
   "cell_type": "code",
   "execution_count": 3,
   "metadata": {},
   "outputs": [
    {
     "name": "stdout",
     "output_type": "stream",
     "text": [
      "Year\n",
      "Datetime\n",
      "Stage\n",
      "Stadium\n",
      "City\n",
      "Home Team Name\n",
      "Home Team Goals\n",
      "Away Team Goals\n",
      "Away Team Name\n",
      "Win conditions\n",
      "Attendance\n",
      "Half-time Home Goals\n",
      "Half-time Away Goals\n",
      "Referee\n",
      "Assistant 1\n",
      "Assistant 2\n",
      "RoundID\n",
      "MatchID\n",
      "Home Team Initials\n",
      "Away Team Initials\n"
     ]
    }
   ],
   "source": [
    "for feature in matches_df.columns:\n",
    "    print(feature)"
   ]
  },
  {
   "cell_type": "code",
   "execution_count": 7,
   "metadata": {},
   "outputs": [
    {
     "name": "stdout",
     "output_type": "stream",
     "text": [
      "Hello fackerface\n"
     ]
    }
   ],
   "source": [
    "print('Hello fackerface')"
   ]
  },
  {
   "cell_type": "code",
   "execution_count": null,
   "metadata": {},
   "outputs": [],
   "source": []
  }
 ],
 "metadata": {
  "file_extension": ".py",
  "kernelspec": {
   "display_name": "Python 3.7.3 64-bit ('base': conda)",
   "name": "python37364bitbaseconda32a22c1b30ab4e8abf802c1a8f9ec8d7"
  },
  "language_info": {
   "codemirror_mode": {
    "name": "ipython",
    "version": 3
   },
   "name": "python",
   "version": "3.7.3-final"
  },
  "mimetype": "text/x-python",
  "name": "python",
  "npconvert_exporter": "python",
  "pygments_lexer": "ipython3",
  "version": 3
 },
 "nbformat": 4,
 "nbformat_minor": 2
}